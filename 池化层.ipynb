{
 "cells": [
  {
   "cell_type": "code",
   "execution_count": 4,
   "id": "2ff36caf-f31e-4b87-93b1-b7670ce3a7d4",
   "metadata": {},
   "outputs": [
    {
     "name": "stdout",
     "output_type": "stream",
     "text": [
      "conv2d sample\n",
      "x variable: tensor([[[[ 0.,  1.,  2.,  3.,  4.],\n",
      "          [ 5.,  6.,  7.,  8.,  9.],\n",
      "          [10., 11., 12., 13., 14.],\n",
      "          [15., 16., 17., 18., 19.]]]])\n",
      "y:tensor([[[[ 6.,  8.],\n",
      "          [16., 18.]]]])\n",
      "z:tensor([[[[ 3.,  5.],\n",
      "          [13., 15.]]]])\n"
     ]
    }
   ],
   "source": [
    "# 池化层  将多个元素用一个统计值表示,统计值可以取最大值，也可以是最小值，也可以是平均值，总之是统计值\n",
    "\n",
    "# max_pool2d 二维最大值池化来说，torch.nn.functional.F.max_pool2d 方法操作\n",
    "import torch\n",
    "import torch.nn.functional as F \n",
    "from torch.autograd import Variable \n",
    "print('conv2d sample')\n",
    "a = range(20)\n",
    "\n",
    "x = Variable(torch.Tensor(a)).view(1,1,4,5)\n",
    "print(f'x variable:',x)\n",
    "# 二维最大值池化\n",
    "y = F.max_pool2d(x,kernel_size=2,stride=2)\n",
    "print(f\"y:{y}\")\n",
    "z = F.avg_pool2d(x,kernel_size=2,stride=2)\n",
    "print(f\"z:{z}\")\n"
   ]
  },
  {
   "cell_type": "code",
   "execution_count": null,
   "id": "f9aa1654-437a-40ed-a499-21f15a97d85f",
   "metadata": {},
   "outputs": [],
   "source": []
  }
 ],
 "metadata": {
  "kernelspec": {
   "display_name": "Python 3 (ipykernel)",
   "language": "python",
   "name": "python3"
  },
  "language_info": {
   "codemirror_mode": {
    "name": "ipython",
    "version": 3
   },
   "file_extension": ".py",
   "mimetype": "text/x-python",
   "name": "python",
   "nbconvert_exporter": "python",
   "pygments_lexer": "ipython3",
   "version": "3.10.9"
  }
 },
 "nbformat": 4,
 "nbformat_minor": 5
}

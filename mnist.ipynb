{
 "cells": [
  {
   "cell_type": "code",
   "execution_count": null,
   "id": "094be57e-ac7a-46a1-a318-01d1f4e91a17",
   "metadata": {},
   "outputs": [
    {
     "name": "stderr",
     "output_type": "stream",
     "text": [
      "E:\\Users\\GaryDeng\\anaconda3\\lib\\site-packages\\torch\\_tensor.py:775: UserWarning: non-inplace resize is deprecated\n",
      "  warnings.warn(\"non-inplace resize is deprecated\")\n"
     ]
    },
    {
     "name": "stdout",
     "output_type": "stream",
     "text": [
      "此手写图片值为:0,其最大概率为:0.00\n"
     ]
    }
   ],
   "source": [
    "import matplotlib.pyplot as plt\n",
    "import torch\n",
    "from torchvision.datasets import MNIST\n",
    "from torchvision import transforms\n",
    "from torch.utils.data import DataLoader\n",
    "from torch import nn\n",
    "import os\n",
    "from PIL import Image\n",
    "import numpy as np\n",
    "\n",
    "# 预处理：将两个步骤整合在一起\n",
    "transform = transforms.Compose({\n",
    "    transforms.ToTensor(), # 转为Tensor，范围改为0-1\n",
    "    transforms.Normalize((0.1307,),(0.3081)) # 数据归一化，即均值为0，标准差为1\n",
    "})\n",
    "\n",
    "# 训练数据集\n",
    "train_data = MNIST(root='./data',train=True,download=False,transform=transforms.ToTensor())\n",
    "train_loader = DataLoader(train_data,shuffle=True,batch_size=64)\n",
    "\n",
    "# 测试数据集\n",
    "test_data = MNIST(root='./data',train=False,download=False,transform=transforms.ToTensor())\n",
    "test_loader = DataLoader(test_data,shuffle=False,batch_size=64)\n",
    "\n",
    "# 模型\n",
    "class Model(nn.Module):\n",
    "    def __init__(self):\n",
    "        super(Model,self).__init__()\n",
    "        self.linear1 = nn.Linear(784,256)\n",
    "        self.linear2 = nn.Linear(256,64)\n",
    "        self.linear3 = nn.Linear(64,10) # 10个手写数字对应的10个输出\n",
    "\n",
    "    def forward(self,x):\n",
    "        x = x.view(-1,784) # 变形\n",
    "        x = torch.relu(self.linear1(x))\n",
    "        x = torch.relu(self.linear2(x))\n",
    "        x = torch.relu(self.linear3(x))\n",
    "        return x\n",
    "\n",
    "# CrossEntropyLoss\n",
    "model = Model()\n",
    "criterion = nn.CrossEntropyLoss() # 交叉熵损失，相当于Softmax+Log+NllLoss\n",
    "optimizer = torch.optim.SGD(model.parameters(),0.8) # 第一个参数是初始化参数值，第二个参数是学习率\n",
    "\n",
    "# 模型训练\n",
    "def train():\n",
    "    for index,data in enumerate(train_loader):\n",
    "        input,target = data # input为输入数据，target为标签\n",
    "        optimizer.zero_grad() # 梯度清零\n",
    "        y_predict = model(input) # 模型预测\n",
    "        loss = criterion(y_predict,target) # 计算损失\n",
    "        loss.backward() # 反向传播\n",
    "        optimizer.step() # 更新参数\n",
    "        if index % 100 == 0: # 每一百次保存一次模型，打印损失\n",
    "            torch.save(model.state_dict(),\"./model/model_net.pkl\") # 保存模型\n",
    "            torch.save(optimizer.state_dict(),\"./model/optimizer_net.pkl\")\n",
    "            print(\"损失值为：%.2f\" % loss.item())\n",
    "\n",
    "# 加载模型\n",
    "if os.path.exists('./model/model_net.pkl'):\n",
    "    model.load_state_dict(torch.load(\"./model/model_net.pkl\")) # 加载保存模型的参数\n",
    "\n",
    "# 模型测试\n",
    "def test():\n",
    "    correct = 0 # 正确预测的个数\n",
    "    total = 0 # 总数\n",
    "    with torch.no_grad(): # 测试不用计算梯度\n",
    "        for data in test_loader:\n",
    "            input,target = data\n",
    "            output=model(input) # output输出10个预测取值，其中最大的即为预测的数\n",
    "            probability,predict=torch.max(output.data,dim=1) # 返回一个元组，第一个为最大概率值，第二个为最大值的下标\n",
    "            total += target.size(0) # target是形状为(batch_size,1)的矩阵，使用size(0)取出该批的大小\n",
    "            correct += (predict == target).sum().item() # predict和target均为(batch_size,1)的矩阵，sum()求出相等的个数\n",
    "        print(\"准确率为：%.2f\" % (correct / total))\n",
    "\n",
    "# 自定义手写数字识别测试\n",
    "def test_mydata():\n",
    "    image = Image.open('./data/1.jpg') # 读取自定义手写图片\n",
    "    image = image.resize((28,28)) # 裁剪尺寸为28*28\n",
    "    image = image.convert('L') # 转换为灰度图像\n",
    "    transform = transforms.ToTensor()\n",
    "    image = transform(image)\n",
    "    image = image.resize(1,1,28,28)\n",
    "    output = model(image)\n",
    "    probability,predict=torch.max(output.data,dim=1)\n",
    "    print(\"此手写图片值为:%d,其最大概率为:%.2f\" % (predict[0],probability))\n",
    "    plt.title('此手写图片值为：{}'.format((int(predict))),fontname=\"SimHei\")\n",
    "    plt.imshow(image.squeeze())\n",
    "    plt.show()\n",
    "\n",
    "# 主函数\n",
    "if __name__ == '__main__':\n",
    "    # 自定义测试\n",
    "    test_mydata()\n",
    "    # 训练与测试\n",
    "    # for i in range(5): # 训练和测试进行两轮\n",
    "    #     train()\n",
    "    #     test()\n"
   ]
  },
  {
   "cell_type": "code",
   "execution_count": 2,
   "id": "93d61521-d6fd-4b61-8878-633f20f6de02",
   "metadata": {},
   "outputs": [
    {
     "data": {
      "text/plain": [
       "False"
      ]
     },
     "execution_count": 2,
     "metadata": {},
     "output_type": "execute_result"
    }
   ],
   "source": [
    "import torch\n",
    "torch.cuda.is_available()"
   ]
  },
  {
   "cell_type": "code",
   "execution_count": null,
   "id": "9e7ce2fb-c75f-489a-a199-8c1f5fb462d7",
   "metadata": {},
   "outputs": [],
   "source": []
  }
 ],
 "metadata": {
  "kernelspec": {
   "display_name": "Python 3 (ipykernel)",
   "language": "python",
   "name": "python3"
  },
  "language_info": {
   "codemirror_mode": {
    "name": "ipython",
    "version": 3
   },
   "file_extension": ".py",
   "mimetype": "text/x-python",
   "name": "python",
   "nbconvert_exporter": "python",
   "pygments_lexer": "ipython3",
   "version": "3.11.4"
  }
 },
 "nbformat": 4,
 "nbformat_minor": 5
}

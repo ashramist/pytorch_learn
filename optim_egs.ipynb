{
 "cells": [
  {
   "cell_type": "code",
   "execution_count": null,
   "id": "e95c69a8-d141-40a7-98b4-b3434f92c9cf",
   "metadata": {},
   "outputs": [],
   "source": [
    "# 优化器示例代码说明 \n",
    "\n",
    "# SGD(随机梯度下降  Stochastic Gradient Descent)\n",
    "# 随机选取部分数据集参与计算，是梯度下降的batch版本，SGD支持动量参数，支持学习衰减率\n",
    "\n",
    "# optimizer = optim.SGD(model.parameters(),lr=0.01,momentum=0.9)\n",
    "import torch \n",
    "\n",
    "optimizer = torch.optim.SGD()"
   ]
  }
 ],
 "metadata": {
  "kernelspec": {
   "display_name": "Python 3 (ipykernel)",
   "language": "python",
   "name": "python3"
  },
  "language_info": {
   "codemirror_mode": {
    "name": "ipython",
    "version": 3
   },
   "file_extension": ".py",
   "mimetype": "text/x-python",
   "name": "python",
   "nbconvert_exporter": "python",
   "pygments_lexer": "ipython3",
   "version": "3.10.9"
  }
 },
 "nbformat": 4,
 "nbformat_minor": 5
}

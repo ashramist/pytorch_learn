{
 "cells": [
  {
   "cell_type": "code",
   "execution_count": null,
   "id": "6d12c481-09bc-4bfd-80bf-1421162d3ffa",
   "metadata": {},
   "outputs": [],
   "source": [
    "# Mnist 手写数字图形识别\n",
    "from __future__ import print_function\n",
    "import os \n",
    "import struct \n",
    "import numpy as np \n",
    "# 加载mnist\n",
    "def load_mnist(path,kind='train'):\n",
    "    labels_path = os.path.join(path,'%s-labels.idx1-ubyte' % kind)"
   ]
  }
 ],
 "metadata": {
  "kernelspec": {
   "display_name": "Python 3 (ipykernel)",
   "language": "python",
   "name": "python3"
  },
  "language_info": {
   "codemirror_mode": {
    "name": "ipython",
    "version": 3
   },
   "file_extension": ".py",
   "mimetype": "text/x-python",
   "name": "python",
   "nbconvert_exporter": "python",
   "pygments_lexer": "ipython3",
   "version": "3.10.9"
  }
 },
 "nbformat": 4,
 "nbformat_minor": 5
}

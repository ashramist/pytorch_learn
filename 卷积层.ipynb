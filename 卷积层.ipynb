{
 "cells": [
  {
   "cell_type": "code",
   "execution_count": 3,
   "id": "34204b23-1554-4626-80b8-3e34926aa870",
   "metadata": {},
   "outputs": [
    {
     "name": "stdout",
     "output_type": "stream",
     "text": [
      "conv2d sample\n",
      "x variable:tensor([[[[1., 1., 1., 1.],\n",
      "          [1., 1., 1., 1.],\n",
      "          [1., 1., 1., 1.],\n",
      "          [1., 1., 1., 1.]]]])\n",
      "weights: tensor([[[[0.1000, 0.2000],\n",
      "          [0.3000, 0.4000]]]])\n",
      "y:tensor([[[[1., 1., 1.],\n",
      "          [1., 1., 1.],\n",
      "          [1., 1., 1.]]]])\n"
     ]
    }
   ],
   "source": [
    "# 卷积层是用一个固定大小的矩形区去席卷原始数据，将原始数据分成一\n",
    "# 个个和卷积核大小相同的小块，然后将这些小块和卷积核相乘输出一个\n",
    "# 卷积值（注意：这里是一个单独的值，不再是矩阵了）。\n",
    "# 卷积的本质就是用卷积核的参数来提取原始数据的特征，通过矩阵点乘\n",
    "# 的运算，提取出和卷积核特征一致的值，如果卷积层有多个卷积核，则\n",
    "# 神经网络会自动学习卷积核的参数值，使得每个卷积核代表一个特征\n",
    "\n",
    "# conv2d 二维卷积，对数据在宽度和高度两个维度上进行卷积\n",
    "# nn.functional.Conv2d(input,weight,bias=None,stride)\n",
    "import torch \n",
    "import torch.nn as nn \n",
    "from torch.autograd import Variable\n",
    "import torch.nn.functional as F \n",
    "\n",
    "print('conv2d sample')\n",
    "\n",
    "a = torch.ones(4,4)\n",
    "x =Variable(torch.Tensor(a))\n",
    "x = x.view(1,1,4,4)\n",
    "print(f\"x variable:{x}\")\n",
    "b = torch.Tensor([[0.1,0.2],[0.3,0.4]])\n",
    "weights = Variable(b)\n",
    "weights = weights.view(1,1,2,2)\n",
    "print(f'weights: {weights}')\n",
    "y = F.conv2d(x,weights,padding=0)\n",
    "print(f\"y:{y}\")\n",
    "\n",
    "\n",
    "\n"
   ]
  },
  {
   "cell_type": "code",
   "execution_count": 4,
   "id": "d42e581e-35e3-4815-949c-9e64ef0bec24",
   "metadata": {},
   "outputs": [
    {
     "name": "stdout",
     "output_type": "stream",
     "text": [
      "conv1d sample\n",
      "x variable：tensor([[[ 0.,  1.,  2.,  3.,  4.,  5.,  6.,  7.,  8.,  9., 10., 11., 12., 13.,\n",
      "          14., 15.]]])\n",
      "weights:tensor([[[0.1000, 0.2000, 0.3000]]])\n",
      "y:tensor([[[0.8000, 1.4000, 2.0000, 2.6000, 3.2000, 3.8000, 4.4000, 5.0000,\n",
      "          5.6000, 6.2000, 6.8000, 7.4000, 8.0000, 8.6000]]])\n"
     ]
    }
   ],
   "source": [
    "import torch \n",
    "from torch.autograd import Variable\n",
    "import torch.nn as nn \n",
    "import torch.nn.functional as F \n",
    "print('conv1d sample')\n",
    "a = range(16)\n",
    "x = Variable(torch.Tensor(a))\n",
    "x = x.view(1,1,16)\n",
    "print(f'x variable：{x}')\n",
    "b = torch.Tensor([0.1,0.2,0.3])\n",
    "weights = Variable(b).view(1,1,3)\n",
    "print(f'weights:{weights}')\n",
    "y = F.conv1d(x,weights,padding=0)\n",
    "print(f\"y:{y}\")\n"
   ]
  },
  {
   "cell_type": "code",
   "execution_count": 7,
   "id": "bb64e23c-2360-452f-af5e-75482f65c1d5",
   "metadata": {},
   "outputs": [
    {
     "name": "stdout",
     "output_type": "stream",
     "text": [
      "conv1d sample\n",
      "x variable:tensor([[[ 0.,  1.,  2.,  3.,  4.,  5.,  6.,  7.],\n",
      "         [ 8.,  9., 10., 11., 12., 13., 14., 15.]]])\n",
      "weights:tensor([[[0.1000, 0.2000, 0.3000],\n",
      "         [1.0000, 1.0000, 1.0000]]])\n",
      "y variable:tensor([[[27.8000, 31.4000, 35.0000, 38.6000, 42.2000, 45.8000]]])\n"
     ]
    }
   ],
   "source": [
    "import torch \n",
    "from torch.autograd import Variable\n",
    "import torch.nn as nn \n",
    "import torch.nn.functional as F \n",
    "# 一维卷积多通道示例\n",
    "print('conv1d sample')\n",
    "a = range(16)\n",
    "# 将数据定义成一个 2*8 的矩阵形状\n",
    "x = Variable(torch.Tensor(a)).view(1,2,8)\n",
    "print(f'x variable:{x}')\n",
    "# 定义成一个 一个2*3的矩阵\n",
    "weights = Variable(torch.Tensor([0.1,0.2,0.3,1,1,1])).view(1,2,3)\n",
    "print(f\"weights:{weights}\")\n",
    "y = F.conv1d(x,weights,padding=0)\n",
    "print(f'y variable:{y}')"
   ]
  },
  {
   "cell_type": "code",
   "execution_count": null,
   "id": "7ad3cdbf-6c6a-4a38-bda6-7b5bfc9305c3",
   "metadata": {},
   "outputs": [],
   "source": []
  }
 ],
 "metadata": {
  "kernelspec": {
   "display_name": "Python 3 (ipykernel)",
   "language": "python",
   "name": "python3"
  },
  "language_info": {
   "codemirror_mode": {
    "name": "ipython",
    "version": 3
   },
   "file_extension": ".py",
   "mimetype": "text/x-python",
   "name": "python",
   "nbconvert_exporter": "python",
   "pygments_lexer": "ipython3",
   "version": "3.10.9"
  }
 },
 "nbformat": 4,
 "nbformat_minor": 5
}

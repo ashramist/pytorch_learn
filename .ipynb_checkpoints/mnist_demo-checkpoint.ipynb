{
 "cells": [
  {
   "cell_type": "code",
   "execution_count": 18,
   "id": "6d12c481-09bc-4bfd-80bf-1421162d3ffa",
   "metadata": {},
   "outputs": [
    {
     "name": "stdout",
     "output_type": "stream",
     "text": [
      "Rows:60000,columns:784\n",
      "Rows: 10000, columns: 784\n"
     ]
    }
   ],
   "source": [
    "# Mnist 手写数字图形识别\n",
    "from __future__ import print_function\n",
    "import os \n",
    "import struct \n",
    "import numpy as np \n",
    "import cv2\n",
    "# 加载mnist\n",
    "def load_mnist(path,kind='train'):\n",
    "    labels_path = os.path.join(path,'%s-labels.idx1-ubyte' % kind)\n",
    "    images_path = os.path.join(path,'%s-images.idx3-ubyte' % kind)\n",
    "    with open(labels_path,'rb') as lbpath:\n",
    "        magic,n = struct.unpack('>II', lbpath.read(8))\n",
    "        labels= np.fromfile(lbpath,dtype=np.uint8)\n",
    "    with open(images_path,'rb') as imgpath:\n",
    "        magic,num,rows,cols= struct.unpack(\">IIII\", imgpath.read(16))\n",
    "        images = np.fromfile(imgpath,dtype=np.uint8).reshape(len(labels),rows*cols)\n",
    "    return images,labels\n",
    "\n",
    "x_train, y_train = load_mnist('./data', kind='train')\n",
    "print('Rows:%d,columns:%d' % (x_train.shape[0],x_train.shape[1]))\n",
    "x_test, y_test = load_mnist('./data', kind='t10k')\n",
    "print('Rows: %d, columns: %d' % (x_test.shape[0], x_test.shape[1]))\n",
    "\n",
    "image1 = x_train[1].astype('float32').reshape(28,28,1)\n",
    "cv2.imwrite('./data/1.jpg',image1)\n"
   ]
  },
  {
   "cell_type": "code",
   "execution_count": null,
   "id": "73eeccd2-a8aa-4552-9cfe-d8284fe7ac35",
   "metadata": {},
   "outputs": [],
   "source": []
  }
 ],
 "metadata": {
  "kernelspec": {
   "display_name": "Python 3 (ipykernel)",
   "language": "python",
   "name": "python3"
  },
  "language_info": {
   "codemirror_mode": {
    "name": "ipython",
    "version": 3
   },
   "file_extension": ".py",
   "mimetype": "text/x-python",
   "name": "python",
   "nbconvert_exporter": "python",
   "pygments_lexer": "ipython3",
   "version": "3.10.9"
  }
 },
 "nbformat": 4,
 "nbformat_minor": 5
}
